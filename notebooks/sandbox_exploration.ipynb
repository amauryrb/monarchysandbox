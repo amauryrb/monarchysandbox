{
 "cells": [
  {
   "cell_type": "markdown",
   "metadata": {},
   "source": [
    "# Sandbox Exploration\n",
    "\n",
    "This notebook is used for interactive exploration of the monarchy simulation. It includes code to run the simulation, visualize results, and analyze different scenarios."
   ]
  },
  {
   "cell_type": "code",
   "execution_count": null,
   "metadata": {
    "collapsed": false
   },
   "outputs": [],
   "source": [
    "# Import necessary libraries\n",
    "import pandas as pd\n",
    "import matplotlib.pyplot as plt\n",
    "from src.simulation import run_simulation\n",
    "\n",
    "# Set simulation parameters\n",
    "TIMESTEPS = 120\n",
    "POP = 10000\n",
    "init_M = 0.15\n",
    "init_L = 0.6\n",
    "init_U = 0.25\n",
    "\n",
    "# Run the simulation\n",
    "results = run_simulation(TIMESTEPS, POP, init_M, init_L, init_U)\n",
    "\n",
    "# Convert results to DataFrame\n",
    "df = pd.DataFrame(results)\n",
    "\n",
    "# Plot population fractions\n",
    "plt.figure(figsize=(10,5))\n",
    "plt.plot(df['t'], df['M'] / POP, label='Monarchists (fraction)')\n",
    "plt.plot(df['t'], df['L'] / POP, label='Liberals (fraction)')\n",
    "plt.plot(df['t'], df['U'] / POP, label='Undecided (fraction)')\n",
    "plt.title('Population Fractions Over Time')\n",
    "plt.xlabel('Timestep')\n",
    "plt.ylabel('Fraction of population')\n",
    "plt.legend()\n",
    "plt.grid(True)\n",
    "plt.show()\n",
    "\n",
    "# Additional analysis and visualizations can be added below."
   ]
  }
 ],
 "metadata": {
  "kernelspec": {
   "display_name": "Python 3",
   "language": "python",
   "name": "python3"
  },
  "language_info": {
   "codemirror_mode": {
    "name": "ipython",
    "version": 3
   },
   "file_extension": ".py",
   "mimetype": "text/x-python",
   "name": "python",
   "nbconvert_exporter": "python",
   "pygments_lexer": "ipython3",
   "version": "3.8.5"
  }
 },
 "nbformat": 4,
 "nbformat_minor": 4
}